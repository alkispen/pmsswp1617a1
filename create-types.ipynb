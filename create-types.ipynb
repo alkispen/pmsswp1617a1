{
 "cells": [
  {
   "cell_type": "markdown",
   "metadata": {},
   "source": [
    "\n",
    "   "
   ]
  },
  {
   "cell_type": "code",
   "execution_count": 1,
   "metadata": {
    "collapsed": false
   },
   "outputs": [
    {
     "name": "stdout",
     "output_type": "stream",
     "text": [
      "[['_:bnode0', 'http://dilab77.ionio.gr/swp/poulimenos/vocab#Ημέρα', 'Δευτέρα'], ['_:bnode0', 'http://dilab77.ionio.gr/swp/poulimenos/vocab#Έναρξη', '18:00'], ['_:bnode0', 'http://dilab77.ionio.gr/swp/poulimenos/vocab#Λήξη', '21:00'], ['_:bnode0', 'http://dilab77.ionio.gr/swp/poulimenos/vocab#Διδάσκων', 'http://dilab77.ionio.gr/swp/poulimenos/resource/Μυλωνάς'], ['_:bnode0', 'http://dilab77.ionio.gr/swp/poulimenos/vocab#Άιθουσα', 'http://dilab77.ionio.gr/swp/poulimenos/resource/Αίθουσα%20ΠΜΣ'], ['_:bnode0', 'http://dilab77.ionio.gr/swp/poulimenos/vocab#Εξάμηνο', 'Β'], ['_:bnode0', 'http://dilab77.ionio.gr/swp/poulimenos/vocab#Μάθημα', 'http://dilab77.ionio.gr/swp/poulimenos/resource/Εξόρυξη%20δεδομένων%20και%20διαχείριση%20γνώσης'], ['_:bnode1', 'http://dilab77.ionio.gr/swp/poulimenos/vocab#Ημέρα', 'Τρίτη'], ['_:bnode1', 'http://dilab77.ionio.gr/swp/poulimenos/vocab#Έναρξη', '15:00'], ['_:bnode1', 'http://dilab77.ionio.gr/swp/poulimenos/vocab#Λήξη', '18:00'], ['_:bnode1', 'http://dilab77.ionio.gr/swp/poulimenos/vocab#Διδάσκων', 'http://dilab77.ionio.gr/swp/poulimenos/resource/Στεφανιδάκης'], ['_:bnode1', 'http://dilab77.ionio.gr/swp/poulimenos/vocab#Άιθουσα', 'http://dilab77.ionio.gr/swp/poulimenos/resource/Αίθουσα%20ΠΜΣ'], ['_:bnode1', 'http://dilab77.ionio.gr/swp/poulimenos/vocab#Εξάμηνο', 'Β'], ['_:bnode1', 'http://dilab77.ionio.gr/swp/poulimenos/vocab#Μάθημα', 'http://dilab77.ionio.gr/swp/poulimenos/resource/Προγραμματισμός%20Σημασιολογικού%20Ιστού'], ['_:bnode2', 'http://dilab77.ionio.gr/swp/poulimenos/vocab#Ημέρα', 'Τρίτη'], ['_:bnode2', 'http://dilab77.ionio.gr/swp/poulimenos/vocab#Έναρξη', '18:00'], ['_:bnode2', 'http://dilab77.ionio.gr/swp/poulimenos/vocab#Λήξη', '21:00'], ['_:bnode2', 'http://dilab77.ionio.gr/swp/poulimenos/vocab#Διδάσκων', 'http://dilab77.ionio.gr/swp/poulimenos/resource/Βλάμος'], ['_:bnode2', 'http://dilab77.ionio.gr/swp/poulimenos/vocab#Άιθουσα', 'http://dilab77.ionio.gr/swp/poulimenos/resource/Αίθουσα%20ΠΜΣ'], ['_:bnode2', 'http://dilab77.ionio.gr/swp/poulimenos/vocab#Εξάμηνο', 'Β'], ['_:bnode2', 'http://dilab77.ionio.gr/swp/poulimenos/vocab#Μάθημα', 'http://dilab77.ionio.gr/swp/poulimenos/resource/Βιοπληροφορική']]\n"
     ]
    }
   ],
   "source": [
    "import csv\n",
    "\n",
    "triples = []\n",
    "with open('part0-input.csv','r',newline='') as ifp:\n",
    "    reader = csv.reader(ifp)\n",
    "    for row in reader:\n",
    "        triples.append(row)\n",
    "        \n",
    "print(triples)"
   ]
  },
  {
   "cell_type": "markdown",
   "metadata": {},
   "source": [
    "## Εδώ δημιούργησα το αρχικό N-triple"
   ]
  },
  {
   "cell_type": "code",
   "execution_count": 2,
   "metadata": {
    "collapsed": false
   },
   "outputs": [
    {
     "name": "stdout",
     "output_type": "stream",
     "text": [
      "('_:bnode0', '<http://dilab77.ionio.gr/swp/poulimenos/vocab#Ημέρα>', '\"Δευτέρα\"')\n",
      "('_:bnode0', '<http://dilab77.ionio.gr/swp/poulimenos/vocab#Έναρξη>', '\"18:00\"')\n",
      "('_:bnode0', '<http://dilab77.ionio.gr/swp/poulimenos/vocab#Λήξη>', '\"21:00\"')\n",
      "('_:bnode0', '<http://dilab77.ionio.gr/swp/poulimenos/vocab#Διδάσκων>', '<http://dilab77.ionio.gr/swp/poulimenos/resource/Μυλωνάς>')\n",
      "('_:bnode0', '<http://dilab77.ionio.gr/swp/poulimenos/vocab#Άιθουσα>', '<http://dilab77.ionio.gr/swp/poulimenos/resource/Αίθουσα%20ΠΜΣ>')\n",
      "('_:bnode0', '<http://dilab77.ionio.gr/swp/poulimenos/vocab#Εξάμηνο>', '\"Β\"')\n",
      "('_:bnode0', '<http://dilab77.ionio.gr/swp/poulimenos/vocab#Μάθημα>', '<http://dilab77.ionio.gr/swp/poulimenos/resource/Εξόρυξη%20δεδομένων%20και%20διαχείριση%20γνώσης>')\n",
      "('_:bnode1', '<http://dilab77.ionio.gr/swp/poulimenos/vocab#Ημέρα>', '\"Τρίτη\"')\n",
      "('_:bnode1', '<http://dilab77.ionio.gr/swp/poulimenos/vocab#Έναρξη>', '\"15:00\"')\n",
      "('_:bnode1', '<http://dilab77.ionio.gr/swp/poulimenos/vocab#Λήξη>', '\"18:00\"')\n",
      "('_:bnode1', '<http://dilab77.ionio.gr/swp/poulimenos/vocab#Διδάσκων>', '<http://dilab77.ionio.gr/swp/poulimenos/resource/Στεφανιδάκης>')\n",
      "('_:bnode1', '<http://dilab77.ionio.gr/swp/poulimenos/vocab#Άιθουσα>', '<http://dilab77.ionio.gr/swp/poulimenos/resource/Αίθουσα%20ΠΜΣ>')\n",
      "('_:bnode1', '<http://dilab77.ionio.gr/swp/poulimenos/vocab#Εξάμηνο>', '\"Β\"')\n",
      "('_:bnode1', '<http://dilab77.ionio.gr/swp/poulimenos/vocab#Μάθημα>', '<http://dilab77.ionio.gr/swp/poulimenos/resource/Προγραμματισμός%20Σημασιολογικού%20Ιστού>')\n",
      "('_:bnode2', '<http://dilab77.ionio.gr/swp/poulimenos/vocab#Ημέρα>', '\"Τρίτη\"')\n",
      "('_:bnode2', '<http://dilab77.ionio.gr/swp/poulimenos/vocab#Έναρξη>', '\"18:00\"')\n",
      "('_:bnode2', '<http://dilab77.ionio.gr/swp/poulimenos/vocab#Λήξη>', '\"21:00\"')\n",
      "('_:bnode2', '<http://dilab77.ionio.gr/swp/poulimenos/vocab#Διδάσκων>', '<http://dilab77.ionio.gr/swp/poulimenos/resource/Βλάμος>')\n",
      "('_:bnode2', '<http://dilab77.ionio.gr/swp/poulimenos/vocab#Άιθουσα>', '<http://dilab77.ionio.gr/swp/poulimenos/resource/Αίθουσα%20ΠΜΣ>')\n",
      "('_:bnode2', '<http://dilab77.ionio.gr/swp/poulimenos/vocab#Εξάμηνο>', '\"Β\"')\n",
      "('_:bnode2', '<http://dilab77.ionio.gr/swp/poulimenos/vocab#Μάθημα>', '<http://dilab77.ionio.gr/swp/poulimenos/resource/Βιοπληροφορική>')\n"
     ]
    }
   ],
   "source": [
    "eavlist = []\n",
    "for e,a,v in triples:\n",
    "     \n",
    "    if a.startswith('http'):\n",
    "        a = '<'+a+'>' \n",
    "    if v.startswith('http') :\n",
    "         v = '<'+v+'>'\n",
    "    \n",
    "    if a == '<http://dilab77.ionio.gr/swp/poulimenos/vocab#Εξάμηνο>':\n",
    "        v = '\"'+v+'\"'\n",
    "       \n",
    "    if a == '<http://dilab77.ionio.gr/swp/poulimenos/vocab#Ημέρα>':\n",
    "        v = '\"'+v+'\"'\n",
    "        \n",
    "    if a == '<http://dilab77.ionio.gr/swp/poulimenos/vocab#Έναρξη>':\n",
    "        v = '\"'+v+'\"'\n",
    "        \n",
    "    if a == '<http://dilab77.ionio.gr/swp/poulimenos/vocab#Λήξη>':\n",
    "        v = '\"'+v+'\"'\n",
    "        \n",
    "    #visited.add(v)   \n",
    "    eavlist.append((e,a,v))\n",
    "    \n",
    "for i in eavlist:       \n",
    "    print(i)"
   ]
  },
  {
   "cell_type": "markdown",
   "metadata": {},
   "source": [
    "## Εδώ έφτιαξα το N-triple όπως το ζητάει η εργασία"
   ]
  },
  {
   "cell_type": "markdown",
   "metadata": {},
   "source": []
  },
  {
   "cell_type": "code",
   "execution_count": 5,
   "metadata": {
    "collapsed": false
   },
   "outputs": [
    {
     "name": "stdout",
     "output_type": "stream",
     "text": [
      "_:bnode0 <http://www.w3.org/1999/02/22-rdf-syntax-ns#type> <http://dilab77.ionio.gr/swp/poulimenos/vocab#Day>\n",
      "_:bnode0 <http://www.w3.org/1999/02/22-rdf-syntax-ns#type> <http://dilab77.ionio.gr/swp/poulimenos/vocab#Start>\n",
      "_:bnode0 <http://www.w3.org/1999/02/22-rdf-syntax-ns#type> <http://dilab77.ionio.gr/swp/poulimenos/vocab#End>\n",
      "_:bnode0 <http://www.w3.org/1999/02/22-rdf-syntax-ns#type> <http://dilab77.ionio.gr/swp/poulimenos/vocab#Semester>\n",
      "<http://dilab77.ionio.gr/swp/poulimenos/resource/Μυλωνάς> <http://www.w3.org/1999/02/22-rdf-syntax-ns#type> <http://dilab77.ionio.gr/swp/poulimenos/vocab#Professor> .\n",
      "<http://dilab77.ionio.gr/swp/poulimenos/resource/Εξόρυξη%20δεδομένων%20και%20διαχείριση%20γνώσης> <http://www.w3.org/1999/02/22-rdf-syntax-ns#type> <http://dilab77.ionio.gr/swp/poulimenos/vocab#Course> .\n",
      "_:bnode1 <http://www.w3.org/1999/02/22-rdf-syntax-ns#type> <http://dilab77.ionio.gr/swp/poulimenos/vocab#Day>\n",
      "_:bnode1 <http://www.w3.org/1999/02/22-rdf-syntax-ns#type> <http://dilab77.ionio.gr/swp/poulimenos/vocab#Start>\n",
      "_:bnode1 <http://www.w3.org/1999/02/22-rdf-syntax-ns#type> <http://dilab77.ionio.gr/swp/poulimenos/vocab#End>\n",
      "_:bnode1 <http://www.w3.org/1999/02/22-rdf-syntax-ns#type> <http://dilab77.ionio.gr/swp/poulimenos/vocab#Semester>\n",
      "<http://dilab77.ionio.gr/swp/poulimenos/resource/Στεφανιδάκης> <http://www.w3.org/1999/02/22-rdf-syntax-ns#type> <http://dilab77.ionio.gr/swp/poulimenos/vocab#Professor> .\n",
      "<http://dilab77.ionio.gr/swp/poulimenos/resource/Προγραμματισμός%20Σημασιολογικού%20Ιστού> <http://www.w3.org/1999/02/22-rdf-syntax-ns#type> <http://dilab77.ionio.gr/swp/poulimenos/vocab#Course> .\n",
      "_:bnode2 <http://www.w3.org/1999/02/22-rdf-syntax-ns#type> <http://dilab77.ionio.gr/swp/poulimenos/vocab#Day>\n",
      "_:bnode2 <http://www.w3.org/1999/02/22-rdf-syntax-ns#type> <http://dilab77.ionio.gr/swp/poulimenos/vocab#Start>\n",
      "_:bnode2 <http://www.w3.org/1999/02/22-rdf-syntax-ns#type> <http://dilab77.ionio.gr/swp/poulimenos/vocab#End>\n",
      "_:bnode2 <http://www.w3.org/1999/02/22-rdf-syntax-ns#type> <http://dilab77.ionio.gr/swp/poulimenos/vocab#Semester>\n",
      "<http://dilab77.ionio.gr/swp/poulimenos/resource/Βλάμος> <http://www.w3.org/1999/02/22-rdf-syntax-ns#type> <http://dilab77.ionio.gr/swp/poulimenos/vocab#Professor> .\n",
      "<http://dilab77.ionio.gr/swp/poulimenos/resource/Βιοπληροφορική> <http://www.w3.org/1999/02/22-rdf-syntax-ns#type> <http://dilab77.ionio.gr/swp/poulimenos/vocab#Course> .\n"
     ]
    }
   ],
   "source": [
    "visited = set()\n",
    "with open('myN-triple.nt','w') as ofp:\n",
    "    for e,a,v in eavlist:\n",
    "        r='<http://www.w3.org/1999/02/22-rdf-syntax-ns#type>'\n",
    "        \n",
    "        if e not in visited and a.endswith('Ημέρα>'):\n",
    "            visited.add(e)\n",
    "            print(e,r,'<http://dilab77.ionio.gr/swp/poulimenos/vocab#Day>')\n",
    "            print(e,r,'<http://dilab77.ionio.gr/swp/poulimenos/vocab#Start>')\n",
    "            print(e,r,'<http://dilab77.ionio.gr/swp/poulimenos/vocab#End>')\n",
    "            print(e,r,'<http://dilab77.ionio.gr/swp/poulimenos/vocab#Semester>')\n",
    "            \n",
    "\n",
    "            ofp.write('{} {} {} . \\n'.format(e,r,'<http://dilab77.ionio.gr/swp/poulimenos/vocab#Day>'))\n",
    "            ofp.write('{} {} {} . \\n'.format(e,r,'<http://dilab77.ionio.gr/swp/poulimenos/vocab#Start>'))\n",
    "            ofp.write('{} {} {} . \\n'.format(e,r,'<http://dilab77.ionio.gr/swp/poulimenos/vocab#End>'))\n",
    "            ofp.write('{} {} {} . \\n'.format(e,r,'<http://dilab77.ionio.gr/swp/poulimenos/vocab#Semester>'))\n",
    "            \n",
    "        \n",
    "            \n",
    "        if a=='<http://dilab77.ionio.gr/swp/poulimenos/vocab#Διδάσκων>':\n",
    "\n",
    "            if v not in visited:\n",
    "                visited.add(v)\n",
    "           \n",
    "                print('{} {} {} .'.format(v,r,'<http://dilab77.ionio.gr/swp/poulimenos/vocab#Professor>'))\n",
    "                ofp.write('{} {} {} . \\n'.format(v,r,'<http://dilab77.ionio.gr/swp/poulimenos/vocab#Professor>'))  \n",
    "                \n",
    "        if a=='<http://dilab77.ionio.gr/swp/poulimenos/vocab#Άιθουσα':\n",
    "\n",
    "             if v not in visited:\n",
    "                visited.add(v)\n",
    " \n",
    "                print('{} {} {} .'.format(v,r,'<http://dilab77.ionio.gr/swp/poulimenos/vocab#Class'))\n",
    "                ofp.write('{} {} {} . \\n'.format(v,r,'<http://dilab77.ionio.gr/swp/poulimenos/vocab#Class'))\n",
    "        if a=='<http://dilab77.ionio.gr/swp/poulimenos/vocab#Μάθημα>':\n",
    "            if v not in visited:\n",
    "                visited.add(v)\n",
    "\n",
    "                print('{} {} {} .'.format(v,r,'<http://dilab77.ionio.gr/swp/poulimenos/vocab#Course>'))\n",
    "                ofp.write('{} {} {} . \\n'.format(v,r,'<http://dilab77.ionio.gr/swp/poulimenos/vocab#Course>'))"
   ]
  },
  {
   "cell_type": "markdown",
   "metadata": {},
   "source": [
    "## Έλεγχος N-triple"
   ]
  },
  {
   "cell_type": "code",
   "execution_count": 6,
   "metadata": {
    "collapsed": false
   },
   "outputs": [],
   "source": [
    "!riot --validate myN-triple.nt"
   ]
  },
  {
   "cell_type": "markdown",
   "metadata": {},
   "source": []
  },
  {
   "cell_type": "code",
   "execution_count": 5,
   "metadata": {
    "collapsed": false
   },
   "outputs": [],
   "source": []
  },
  {
   "cell_type": "code",
   "execution_count": 6,
   "metadata": {
    "collapsed": true
   },
   "outputs": [],
   "source": []
  },
  {
   "cell_type": "markdown",
   "metadata": {},
   "source": []
  }
 ],
 "metadata": {
  "kernelspec": {
   "display_name": "Python 3",
   "language": "python",
   "name": "python3"
  },
  "language_info": {
   "codemirror_mode": {
    "name": "ipython",
    "version": 3
   },
   "file_extension": ".py",
   "mimetype": "text/x-python",
   "name": "python",
   "nbconvert_exporter": "python",
   "pygments_lexer": "ipython3",
   "version": "3.4.4"
  }
 },
 "nbformat": 4,
 "nbformat_minor": 0
}
